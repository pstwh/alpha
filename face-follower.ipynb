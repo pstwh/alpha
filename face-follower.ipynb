{
 "cells": [
  {
   "cell_type": "code",
   "execution_count": 1,
   "metadata": {},
   "outputs": [],
   "source": [
    "import cv2\n",
    "import numpy as np\n",
    "\n",
    "face_cascade = cv2.CascadeClassifier('haarcascades/haarcascade_frontalface_default.xml')"
   ]
  },
  {
   "cell_type": "code",
   "execution_count": 2,
   "metadata": {},
   "outputs": [],
   "source": [
    "def get_face_reference(frame):\n",
    "    (x, y, w, h) = face_cascade.detectMultiScale(cv2.cvtColor(frame, cv2.COLOR_BGR2GRAY), 1.3, 5)[0]\n",
    "    \n",
    "    cv2.rectangle(frame,(x,y),(x+w,y+h),(255, 0, 0), 2)\n",
    "\n",
    "    face = frame[x:x+w][y:y+h]\n",
    "    frame = np.subtract(frame[::], 200)\n",
    "    \n",
    "    return { 'pos_center': [x+w/2, y+h/2], 'area': w*h }"
   ]
  },
  {
   "cell_type": "code",
   "execution_count": 3,
   "metadata": {},
   "outputs": [],
   "source": [
    "def compare_reference(reference, other_reference):\n",
    "    dist_location = np.array(reference['pos_center']) - np.array(other_reference['pos_center'])\n",
    "    dist_area = reference['area'] - other_reference['area']\n",
    "    \n",
    "    if reference['area'] + 10000 > other_reference['area']:\n",
    "        move_area = {'move': 'zoom', 'dif': dist_area}\n",
    "    elif reference['area'] - 10000 < other_reference['area']:\n",
    "        move_area = {'move': 'unzoom', 'dif': dist_area}\n",
    "    else: move_area = {'move': 'nothing', 'dif': dist_area}\n",
    "    \n",
    "    \n",
    "    if dist_location[0] > 30:\n",
    "        move_x = {'move': 'left', 'dif': dist_location[0]}\n",
    "    elif dist_location[0] < -30:\n",
    "        move_x = {'move': 'left', 'dif': dist_location[0]}\n",
    "    else: move_x = {'move': 'right', 'dif': dist_location[0]}\n",
    "    \n",
    "    if dist_location[1] > 30:\n",
    "        move_y = {'move': 'up', 'dif': dist_location[1]}\n",
    "    elif dist_location[1] < -30:\n",
    "        move_y = {'move': 'down', 'dif': dist_location[1]}\n",
    "    else: move_y = {'move': 'nothing', 'dif': dist_location[1]}\n",
    "    \n",
    "    return [move_x, move_y, move_area]"
   ]
  },
  {
   "cell_type": "code",
   "execution_count": null,
   "metadata": {},
   "outputs": [],
   "source": [
    "cap = cv2.VideoCapture(0)\n",
    "cap.set(cv2.CAP_PROP_FRAME_WIDTH, 640);\n",
    "cap.set(cv2.CAP_PROP_FRAME_HEIGHT, 360);\n",
    "\n",
    "ret, frame = cap.read()\n",
    "reference = get_face_reference(frame)\n",
    "\n",
    "while(True):\n",
    "    try:\n",
    "        ret, frame = cap.read()\n",
    "\n",
    "        gray = cv2.cvtColor(frame, cv2.COLOR_BGR2GRAY)\n",
    "        other_reference = get_face_reference(frame)\n",
    "\n",
    "        actions = compare_reference(reference, other_reference)    \n",
    "\n",
    "        text = ''\n",
    "        for action in actions:\n",
    "            text += action['move'] + ' | '\n",
    "\n",
    "        cv2.putText(frame, text, (100, 100), cv2.FONT_HERSHEY_SIMPLEX, 1, (255,0,0), 2, cv2.LINE_AA)\n",
    "\n",
    "        cv2.imshow('frame', frame)\n",
    "        if cv2.waitKey(1) & 0xFF == ord('q'):\n",
    "            break\n",
    "    except:\n",
    "        pass"
   ]
  },
  {
   "cell_type": "code",
   "execution_count": null,
   "metadata": {},
   "outputs": [],
   "source": [
    "cap.release()\n",
    "cv2.destroyAllWindows()"
   ]
  },
  {
   "cell_type": "code",
   "execution_count": null,
   "metadata": {},
   "outputs": [],
   "source": []
  }
 ],
 "metadata": {
  "kernelspec": {
   "display_name": "Python 3",
   "language": "python",
   "name": "python3"
  },
  "language_info": {
   "codemirror_mode": {
    "name": "ipython",
    "version": 3
   },
   "file_extension": ".py",
   "mimetype": "text/x-python",
   "name": "python",
   "nbconvert_exporter": "python",
   "pygments_lexer": "ipython3",
   "version": "3.6.4"
  }
 },
 "nbformat": 4,
 "nbformat_minor": 2
}
